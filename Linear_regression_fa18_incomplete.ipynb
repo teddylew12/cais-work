{
 "cells": [
  {
   "cell_type": "markdown",
   "metadata": {},
   "source": [
    "# CAIS++ Linear Regression Workshop\n",
    "Before you go through this code, make sure you read [Lesson 2](http://caisplusplus.usc.edu/blog/curriculum/lesson2) from our curriculum!\n",
    "\n",
    "---"
   ]
  },
  {
   "cell_type": "markdown",
   "metadata": {},
   "source": [
    "## Part 1: Importing the Data"
   ]
  },
  {
   "cell_type": "code",
   "execution_count": 26,
   "metadata": {},
   "outputs": [],
   "source": [
    "##importing numpy and the boston data set:\n",
    "\n",
    "import numpy as np\n",
    "from sklearn.datasets import load_boston"
   ]
  },
  {
   "cell_type": "code",
   "execution_count": 34,
   "metadata": {},
   "outputs": [
    {
     "name": "stdout",
     "output_type": "stream",
     "text": [
      "dict_keys(['data', 'target', 'feature_names', 'DESCR'])\n"
     ]
    }
   ],
   "source": [
    "boston = load_boston()\n",
    "print(boston.keys())"
   ]
  },
  {
   "cell_type": "code",
   "execution_count": 35,
   "metadata": {},
   "outputs": [
    {
     "name": "stdout",
     "output_type": "stream",
     "text": [
      "['CRIM' 'ZN' 'INDUS' 'CHAS' 'NOX' 'RM' 'AGE' 'DIS' 'RAD' 'TAX' 'PTRATIO'\n",
      " 'B' 'LSTAT']\n"
     ]
    }
   ],
   "source": [
    "print(boston.feature_names)"
   ]
  },
  {
   "cell_type": "code",
   "execution_count": 36,
   "metadata": {},
   "outputs": [
    {
     "name": "stdout",
     "output_type": "stream",
     "text": [
      "(506, 13)\n",
      "(506,)\n",
      "['CRIM' 'ZN' 'INDUS' 'CHAS' 'NOX' 'RM' 'AGE' 'DIS' 'RAD' 'TAX' 'PTRATIO'\n",
      " 'B' 'LSTAT']\n"
     ]
    }
   ],
   "source": [
    "# Investigate shape of the input data array\n",
    "data = boston.data\n",
    "target = boston.target ## according to the description above, the target is the median price of the houses\n",
    "\n",
    "print(data.shape)\n",
    "print(target.shape)\n",
    "print(boston.feature_names)\n",
    "\n",
    "num_features = len(boston.feature_names) #13 features\n",
    "num_samples = data.shape[0] # 506 training examples"
   ]
  },
  {
   "cell_type": "code",
   "execution_count": 37,
   "metadata": {},
   "outputs": [
    {
     "data": {
      "text/html": [
       "<div>\n",
       "<style scoped>\n",
       "    .dataframe tbody tr th:only-of-type {\n",
       "        vertical-align: middle;\n",
       "    }\n",
       "\n",
       "    .dataframe tbody tr th {\n",
       "        vertical-align: top;\n",
       "    }\n",
       "\n",
       "    .dataframe thead th {\n",
       "        text-align: right;\n",
       "    }\n",
       "</style>\n",
       "<table border=\"1\" class=\"dataframe\">\n",
       "  <thead>\n",
       "    <tr style=\"text-align: right;\">\n",
       "      <th></th>\n",
       "      <th>CRIM</th>\n",
       "      <th>ZN</th>\n",
       "      <th>INDUS</th>\n",
       "      <th>CHAS</th>\n",
       "      <th>NOX</th>\n",
       "      <th>RM</th>\n",
       "      <th>AGE</th>\n",
       "      <th>DIS</th>\n",
       "      <th>RAD</th>\n",
       "      <th>TAX</th>\n",
       "      <th>PTRATIO</th>\n",
       "      <th>B</th>\n",
       "      <th>LSTAT</th>\n",
       "    </tr>\n",
       "  </thead>\n",
       "  <tbody>\n",
       "    <tr>\n",
       "      <th>0</th>\n",
       "      <td>0.00632</td>\n",
       "      <td>18.0</td>\n",
       "      <td>2.31</td>\n",
       "      <td>0.0</td>\n",
       "      <td>0.538</td>\n",
       "      <td>6.575</td>\n",
       "      <td>65.2</td>\n",
       "      <td>4.0900</td>\n",
       "      <td>1.0</td>\n",
       "      <td>296.0</td>\n",
       "      <td>15.3</td>\n",
       "      <td>396.90</td>\n",
       "      <td>4.98</td>\n",
       "    </tr>\n",
       "    <tr>\n",
       "      <th>1</th>\n",
       "      <td>0.02731</td>\n",
       "      <td>0.0</td>\n",
       "      <td>7.07</td>\n",
       "      <td>0.0</td>\n",
       "      <td>0.469</td>\n",
       "      <td>6.421</td>\n",
       "      <td>78.9</td>\n",
       "      <td>4.9671</td>\n",
       "      <td>2.0</td>\n",
       "      <td>242.0</td>\n",
       "      <td>17.8</td>\n",
       "      <td>396.90</td>\n",
       "      <td>9.14</td>\n",
       "    </tr>\n",
       "    <tr>\n",
       "      <th>2</th>\n",
       "      <td>0.02729</td>\n",
       "      <td>0.0</td>\n",
       "      <td>7.07</td>\n",
       "      <td>0.0</td>\n",
       "      <td>0.469</td>\n",
       "      <td>7.185</td>\n",
       "      <td>61.1</td>\n",
       "      <td>4.9671</td>\n",
       "      <td>2.0</td>\n",
       "      <td>242.0</td>\n",
       "      <td>17.8</td>\n",
       "      <td>392.83</td>\n",
       "      <td>4.03</td>\n",
       "    </tr>\n",
       "    <tr>\n",
       "      <th>3</th>\n",
       "      <td>0.03237</td>\n",
       "      <td>0.0</td>\n",
       "      <td>2.18</td>\n",
       "      <td>0.0</td>\n",
       "      <td>0.458</td>\n",
       "      <td>6.998</td>\n",
       "      <td>45.8</td>\n",
       "      <td>6.0622</td>\n",
       "      <td>3.0</td>\n",
       "      <td>222.0</td>\n",
       "      <td>18.7</td>\n",
       "      <td>394.63</td>\n",
       "      <td>2.94</td>\n",
       "    </tr>\n",
       "    <tr>\n",
       "      <th>4</th>\n",
       "      <td>0.06905</td>\n",
       "      <td>0.0</td>\n",
       "      <td>2.18</td>\n",
       "      <td>0.0</td>\n",
       "      <td>0.458</td>\n",
       "      <td>7.147</td>\n",
       "      <td>54.2</td>\n",
       "      <td>6.0622</td>\n",
       "      <td>3.0</td>\n",
       "      <td>222.0</td>\n",
       "      <td>18.7</td>\n",
       "      <td>396.90</td>\n",
       "      <td>5.33</td>\n",
       "    </tr>\n",
       "  </tbody>\n",
       "</table>\n",
       "</div>"
      ],
      "text/plain": [
       "      CRIM    ZN  INDUS  CHAS    NOX     RM   AGE     DIS  RAD    TAX  \\\n",
       "0  0.00632  18.0   2.31   0.0  0.538  6.575  65.2  4.0900  1.0  296.0   \n",
       "1  0.02731   0.0   7.07   0.0  0.469  6.421  78.9  4.9671  2.0  242.0   \n",
       "2  0.02729   0.0   7.07   0.0  0.469  7.185  61.1  4.9671  2.0  242.0   \n",
       "3  0.03237   0.0   2.18   0.0  0.458  6.998  45.8  6.0622  3.0  222.0   \n",
       "4  0.06905   0.0   2.18   0.0  0.458  7.147  54.2  6.0622  3.0  222.0   \n",
       "\n",
       "   PTRATIO       B  LSTAT  \n",
       "0     15.3  396.90   4.98  \n",
       "1     17.8  396.90   9.14  \n",
       "2     17.8  392.83   4.03  \n",
       "3     18.7  394.63   2.94  \n",
       "4     18.7  396.90   5.33  "
      ]
     },
     "execution_count": 37,
     "metadata": {},
     "output_type": "execute_result"
    }
   ],
   "source": [
    "# Use Pandas to get an overview of the training data\n",
    "\n",
    "import pandas as pd\n",
    "bos_dataframe = pd.DataFrame(boston.data)\n",
    "bos_dataframe.columns = boston.feature_names\n",
    "bos_dataframe.head()"
   ]
  },
  {
   "cell_type": "code",
   "execution_count": 38,
   "metadata": {},
   "outputs": [
    {
     "data": {
      "text/html": [
       "<div>\n",
       "<style scoped>\n",
       "    .dataframe tbody tr th:only-of-type {\n",
       "        vertical-align: middle;\n",
       "    }\n",
       "\n",
       "    .dataframe tbody tr th {\n",
       "        vertical-align: top;\n",
       "    }\n",
       "\n",
       "    .dataframe thead th {\n",
       "        text-align: right;\n",
       "    }\n",
       "</style>\n",
       "<table border=\"1\" class=\"dataframe\">\n",
       "  <thead>\n",
       "    <tr style=\"text-align: right;\">\n",
       "      <th></th>\n",
       "      <th>CRIM</th>\n",
       "      <th>ZN</th>\n",
       "      <th>INDUS</th>\n",
       "      <th>CHAS</th>\n",
       "      <th>NOX</th>\n",
       "      <th>RM</th>\n",
       "      <th>AGE</th>\n",
       "      <th>DIS</th>\n",
       "      <th>RAD</th>\n",
       "      <th>TAX</th>\n",
       "      <th>PTRATIO</th>\n",
       "      <th>B</th>\n",
       "      <th>LSTAT</th>\n",
       "      <th>PRICE</th>\n",
       "    </tr>\n",
       "  </thead>\n",
       "  <tbody>\n",
       "    <tr>\n",
       "      <th>0</th>\n",
       "      <td>0.00632</td>\n",
       "      <td>18.0</td>\n",
       "      <td>2.31</td>\n",
       "      <td>0.0</td>\n",
       "      <td>0.538</td>\n",
       "      <td>6.575</td>\n",
       "      <td>65.2</td>\n",
       "      <td>4.0900</td>\n",
       "      <td>1.0</td>\n",
       "      <td>296.0</td>\n",
       "      <td>15.3</td>\n",
       "      <td>396.90</td>\n",
       "      <td>4.98</td>\n",
       "      <td>24.0</td>\n",
       "    </tr>\n",
       "    <tr>\n",
       "      <th>1</th>\n",
       "      <td>0.02731</td>\n",
       "      <td>0.0</td>\n",
       "      <td>7.07</td>\n",
       "      <td>0.0</td>\n",
       "      <td>0.469</td>\n",
       "      <td>6.421</td>\n",
       "      <td>78.9</td>\n",
       "      <td>4.9671</td>\n",
       "      <td>2.0</td>\n",
       "      <td>242.0</td>\n",
       "      <td>17.8</td>\n",
       "      <td>396.90</td>\n",
       "      <td>9.14</td>\n",
       "      <td>21.6</td>\n",
       "    </tr>\n",
       "    <tr>\n",
       "      <th>2</th>\n",
       "      <td>0.02729</td>\n",
       "      <td>0.0</td>\n",
       "      <td>7.07</td>\n",
       "      <td>0.0</td>\n",
       "      <td>0.469</td>\n",
       "      <td>7.185</td>\n",
       "      <td>61.1</td>\n",
       "      <td>4.9671</td>\n",
       "      <td>2.0</td>\n",
       "      <td>242.0</td>\n",
       "      <td>17.8</td>\n",
       "      <td>392.83</td>\n",
       "      <td>4.03</td>\n",
       "      <td>34.7</td>\n",
       "    </tr>\n",
       "    <tr>\n",
       "      <th>3</th>\n",
       "      <td>0.03237</td>\n",
       "      <td>0.0</td>\n",
       "      <td>2.18</td>\n",
       "      <td>0.0</td>\n",
       "      <td>0.458</td>\n",
       "      <td>6.998</td>\n",
       "      <td>45.8</td>\n",
       "      <td>6.0622</td>\n",
       "      <td>3.0</td>\n",
       "      <td>222.0</td>\n",
       "      <td>18.7</td>\n",
       "      <td>394.63</td>\n",
       "      <td>2.94</td>\n",
       "      <td>33.4</td>\n",
       "    </tr>\n",
       "    <tr>\n",
       "      <th>4</th>\n",
       "      <td>0.06905</td>\n",
       "      <td>0.0</td>\n",
       "      <td>2.18</td>\n",
       "      <td>0.0</td>\n",
       "      <td>0.458</td>\n",
       "      <td>7.147</td>\n",
       "      <td>54.2</td>\n",
       "      <td>6.0622</td>\n",
       "      <td>3.0</td>\n",
       "      <td>222.0</td>\n",
       "      <td>18.7</td>\n",
       "      <td>396.90</td>\n",
       "      <td>5.33</td>\n",
       "      <td>36.2</td>\n",
       "    </tr>\n",
       "  </tbody>\n",
       "</table>\n",
       "</div>"
      ],
      "text/plain": [
       "      CRIM    ZN  INDUS  CHAS    NOX     RM   AGE     DIS  RAD    TAX  \\\n",
       "0  0.00632  18.0   2.31   0.0  0.538  6.575  65.2  4.0900  1.0  296.0   \n",
       "1  0.02731   0.0   7.07   0.0  0.469  6.421  78.9  4.9671  2.0  242.0   \n",
       "2  0.02729   0.0   7.07   0.0  0.469  7.185  61.1  4.9671  2.0  242.0   \n",
       "3  0.03237   0.0   2.18   0.0  0.458  6.998  45.8  6.0622  3.0  222.0   \n",
       "4  0.06905   0.0   2.18   0.0  0.458  7.147  54.2  6.0622  3.0  222.0   \n",
       "\n",
       "   PTRATIO       B  LSTAT  PRICE  \n",
       "0     15.3  396.90   4.98   24.0  \n",
       "1     17.8  396.90   9.14   21.6  \n",
       "2     17.8  392.83   4.03   34.7  \n",
       "3     18.7  394.63   2.94   33.4  \n",
       "4     18.7  396.90   5.33   36.2  "
      ]
     },
     "execution_count": 38,
     "metadata": {},
     "output_type": "execute_result"
    }
   ],
   "source": [
    "# Add in the target variable: price\n",
    "\n",
    "bos_dataframe['PRICE'] = target\n",
    "bos_dataframe.head()"
   ]
  },
  {
   "cell_type": "markdown",
   "metadata": {},
   "source": [
    "## Part 2: Setting up the Machine Learning Objective"
   ]
  },
  {
   "cell_type": "code",
   "execution_count": 51,
   "metadata": {},
   "outputs": [
    {
     "name": "stdout",
     "output_type": "stream",
     "text": [
      "[-0.22677749 -0.38199751 -0.98300021 -0.10398783 -0.32666746  0.59819982\n",
      " -0.19135745  0.86705152  0.01494096 -0.15183351  0.25718478 -0.94855054\n",
      " -0.68102629]\n"
     ]
    }
   ],
   "source": [
    "# 1. Randomly initalize a weights vector between (-1,  1). Keep in mind: what should the size of this vector be?\n",
    "# 2. Call it weights_init. \n",
    "# 3. Print weights_init\n",
    "#############################################\n",
    "import random as rand\n",
    "import numpy as np\n",
    "length=13\n",
    "weights_init =np.random.uniform(-1,1,size=num_features)\n",
    "print(weights_init)"
   ]
  },
  {
   "cell_type": "code",
   "execution_count": 52,
   "metadata": {},
   "outputs": [],
   "source": [
    "# Create a variable for the bias, called bias_init.Initalize the bias to 0\n",
    "#############################################\n",
    "bias_init=0"
   ]
  },
  {
   "cell_type": "markdown",
   "metadata": {},
   "source": [
    "### 2.1: Normalize the input data. We do this because so that we can get all of our data in the same scale.\n",
    "More information can be found [here](https://stats.stackexchange.com/questions/41704/how-and-why-do-normalization-and-feature-scaling-work)"
   ]
  },
  {
   "cell_type": "code",
   "execution_count": 53,
   "metadata": {},
   "outputs": [
    {
     "data": {
      "text/html": [
       "<div>\n",
       "<style scoped>\n",
       "    .dataframe tbody tr th:only-of-type {\n",
       "        vertical-align: middle;\n",
       "    }\n",
       "\n",
       "    .dataframe tbody tr th {\n",
       "        vertical-align: top;\n",
       "    }\n",
       "\n",
       "    .dataframe thead th {\n",
       "        text-align: right;\n",
       "    }\n",
       "</style>\n",
       "<table border=\"1\" class=\"dataframe\">\n",
       "  <thead>\n",
       "    <tr style=\"text-align: right;\">\n",
       "      <th></th>\n",
       "      <th>CRIM</th>\n",
       "      <th>ZN</th>\n",
       "      <th>INDUS</th>\n",
       "      <th>CHAS</th>\n",
       "      <th>NOX</th>\n",
       "      <th>RM</th>\n",
       "      <th>AGE</th>\n",
       "      <th>DIS</th>\n",
       "      <th>RAD</th>\n",
       "      <th>TAX</th>\n",
       "      <th>PTRATIO</th>\n",
       "      <th>B</th>\n",
       "      <th>LSTAT</th>\n",
       "      <th>PRICE</th>\n",
       "    </tr>\n",
       "  </thead>\n",
       "  <tbody>\n",
       "    <tr>\n",
       "      <th>0</th>\n",
       "      <td>-0.042016</td>\n",
       "      <td>0.074872</td>\n",
       "      <td>-0.531630</td>\n",
       "      <td>-0.07431</td>\n",
       "      <td>-0.052782</td>\n",
       "      <td>0.116362</td>\n",
       "      <td>-0.107395</td>\n",
       "      <td>0.035403</td>\n",
       "      <td>-0.591630</td>\n",
       "      <td>-0.370710</td>\n",
       "      <td>-0.890270</td>\n",
       "      <td>1.000000</td>\n",
       "      <td>-0.303080</td>\n",
       "      <td>24.0</td>\n",
       "    </tr>\n",
       "    <tr>\n",
       "      <th>1</th>\n",
       "      <td>-0.041770</td>\n",
       "      <td>-0.128205</td>\n",
       "      <td>-0.244939</td>\n",
       "      <td>-0.07431</td>\n",
       "      <td>-0.270925</td>\n",
       "      <td>0.054648</td>\n",
       "      <td>0.328562</td>\n",
       "      <td>0.140679</td>\n",
       "      <td>-0.522429</td>\n",
       "      <td>-0.549067</td>\n",
       "      <td>-0.184946</td>\n",
       "      <td>1.000000</td>\n",
       "      <td>-0.138763</td>\n",
       "      <td>21.6</td>\n",
       "    </tr>\n",
       "    <tr>\n",
       "      <th>2</th>\n",
       "      <td>-0.041771</td>\n",
       "      <td>-0.128205</td>\n",
       "      <td>-0.244939</td>\n",
       "      <td>-0.07431</td>\n",
       "      <td>-0.270925</td>\n",
       "      <td>0.360815</td>\n",
       "      <td>-0.237864</td>\n",
       "      <td>0.140679</td>\n",
       "      <td>-0.522429</td>\n",
       "      <td>-0.549067</td>\n",
       "      <td>-0.184946</td>\n",
       "      <td>0.898822</td>\n",
       "      <td>-0.340605</td>\n",
       "      <td>34.7</td>\n",
       "    </tr>\n",
       "    <tr>\n",
       "      <th>3</th>\n",
       "      <td>-0.041711</td>\n",
       "      <td>-0.128205</td>\n",
       "      <td>-0.539460</td>\n",
       "      <td>-0.07431</td>\n",
       "      <td>-0.305702</td>\n",
       "      <td>0.285876</td>\n",
       "      <td>-0.724736</td>\n",
       "      <td>0.272120</td>\n",
       "      <td>-0.453228</td>\n",
       "      <td>-0.615126</td>\n",
       "      <td>0.068971</td>\n",
       "      <td>0.943569</td>\n",
       "      <td>-0.383659</td>\n",
       "      <td>33.4</td>\n",
       "    </tr>\n",
       "    <tr>\n",
       "      <th>4</th>\n",
       "      <td>-0.041281</td>\n",
       "      <td>-0.128205</td>\n",
       "      <td>-0.539460</td>\n",
       "      <td>-0.07431</td>\n",
       "      <td>-0.305702</td>\n",
       "      <td>0.345587</td>\n",
       "      <td>-0.457434</td>\n",
       "      <td>0.272120</td>\n",
       "      <td>-0.453228</td>\n",
       "      <td>-0.615126</td>\n",
       "      <td>0.068971</td>\n",
       "      <td>1.000000</td>\n",
       "      <td>-0.289256</td>\n",
       "      <td>36.2</td>\n",
       "    </tr>\n",
       "  </tbody>\n",
       "</table>\n",
       "</div>"
      ],
      "text/plain": [
       "       CRIM        ZN     INDUS     CHAS       NOX        RM       AGE  \\\n",
       "0 -0.042016  0.074872 -0.531630 -0.07431 -0.052782  0.116362 -0.107395   \n",
       "1 -0.041770 -0.128205 -0.244939 -0.07431 -0.270925  0.054648  0.328562   \n",
       "2 -0.041771 -0.128205 -0.244939 -0.07431 -0.270925  0.360815 -0.237864   \n",
       "3 -0.041711 -0.128205 -0.539460 -0.07431 -0.305702  0.285876 -0.724736   \n",
       "4 -0.041281 -0.128205 -0.539460 -0.07431 -0.305702  0.345587 -0.457434   \n",
       "\n",
       "        DIS       RAD       TAX   PTRATIO         B     LSTAT  PRICE  \n",
       "0  0.035403 -0.591630 -0.370710 -0.890270  1.000000 -0.303080   24.0  \n",
       "1  0.140679 -0.522429 -0.549067 -0.184946  1.000000 -0.138763   21.6  \n",
       "2  0.140679 -0.522429 -0.549067 -0.184946  0.898822 -0.340605   34.7  \n",
       "3  0.272120 -0.453228 -0.615126  0.068971  0.943569 -0.383659   33.4  \n",
       "4  0.272120 -0.453228 -0.615126  0.068971  1.000000 -0.289256   36.2  "
      ]
     },
     "execution_count": 53,
     "metadata": {},
     "output_type": "execute_result"
    }
   ],
   "source": [
    "# 1. For each feature (coloumn in the data set), calculate the mean and the max. Use the amax function to calculate the max.\n",
    "# 2. For each data point in that feature, subtract the mean and then divide by the max to normalize.\n",
    "\n",
    "# (uncomment below, and complete for loop)\n",
    "for i in range(num_features):\n",
    "    mean=np.mean(data[:,i])\n",
    "    maxx=np.amax(data[:,i])\n",
    "    data[:,i]=(data[:,i]-mean)/maxx\n",
    "# now the values should be normalized (uncomment below):\n",
    "bos_dataframe.head()"
   ]
  },
  {
   "cell_type": "markdown",
   "metadata": {},
   "source": [
    "### 2.2 Defining the hypothesis and the cost function:\n",
    "The Hypothesis function returns a vector of predicted prices.\n",
    "1. Since we are working with multiple features, we need to dot product the input data with the weights vector. Use the numpy  dot() function!\n",
    "$$h_{w}(x) = w_0 + w_1x_1 + w_2x_2 + ... + w_nx_n$$\n",
    "\n",
    "2. Now we need to add our bias to each input value. use numpy's repeat function to create a vector of length 'num_samples' of the bias_init.\n",
    "3. Return the dot product of the input data and weights summed with the bias vector.\n",
    "\n",
    "The function header has been defined for you, but you need to complete it."
   ]
  },
  {
   "cell_type": "code",
   "execution_count": 58,
   "metadata": {},
   "outputs": [],
   "source": [
    "def hypothesis(weights, bias):\n",
    "    return bias+ data.dot(weights)"
   ]
  },
  {
   "cell_type": "code",
   "execution_count": 59,
   "metadata": {},
   "outputs": [
    {
     "data": {
      "text/plain": [
       "(506,)"
      ]
     },
     "execution_count": 59,
     "metadata": {},
     "output_type": "execute_result"
    }
   ],
   "source": [
    "# Run this cell to see the shape of the return value of the hypothesis function:\n",
    "# (BONUS: try to think of what the shape would be before printing it out)\n",
    "hypothesis(weights_init, bias_init).shape"
   ]
  },
  {
   "cell_type": "markdown",
   "metadata": {},
   "source": [
    "1. Define the cost function, which is just subtracting the actual target from our hypothesis, and squaring (use np.square()) that error.\n",
    "2. We then take the mean (use np.mean()) of all these squared errors. Remember that we dvide by 2 to make the math easier later on:\n",
    "\n",
    "$$MSE \\;Cost = J(w_0, w_1) = {\\frac1{2m}}\\sum_{i=0}^m(h_w(x^{(i)})-y^{(i)})^2$$\n",
    "3. The function header has been defined for you again, but you need to complete it:"
   ]
  },
  {
   "cell_type": "code",
   "execution_count": 60,
   "metadata": {},
   "outputs": [],
   "source": [
    "def cost(weights, bias):\n",
    "    return np.mean(np.square(hypothesis(weights,bias)-target))/2"
   ]
  },
  {
   "cell_type": "code",
   "execution_count": 61,
   "metadata": {},
   "outputs": [
    {
     "data": {
      "text/plain": [
       "299.58955096722934"
      ]
     },
     "execution_count": 61,
     "metadata": {},
     "output_type": "execute_result"
    }
   ],
   "source": [
    "# Run this cell to print out the inital cost. It's really large right now!\n",
    "hypothesis(weights_init, bias_init).shape\n",
    "cost(weights_init,bias_init)"
   ]
  },
  {
   "cell_type": "markdown",
   "metadata": {},
   "source": [
    "The gradient function has been defined for you.\n",
    "It calculates the partial derivative for the weights and bias (look at the red and blue rectangles:\n",
    "<img src = \"image_9.png\"/>"
   ]
  },
  {
   "cell_type": "code",
   "execution_count": 64,
   "metadata": {},
   "outputs": [],
   "source": [
    "# Gradient: return weight gradient vector, bias gradient at current step\n",
    "\n",
    "def gradient(weights, bias):\n",
    "    weight_gradients = []\n",
    "    \n",
    "    for (weight_num, weight) in enumerate(weights):\n",
    "        grad = np.mean((hypothesis(weights, bias)-target) * data[:, weight_num])\n",
    "        weight_gradients.append(grad)\n",
    "        \n",
    "    weight_gradients = np.array(weight_gradients)\n",
    "    \n",
    "    bias_gradient = np.mean(hypothesis(weights, bias) - target)\n",
    "    \n",
    "    return (weight_gradients, bias_gradient)"
   ]
  },
  {
   "cell_type": "code",
   "execution_count": 65,
   "metadata": {},
   "outputs": [
    {
     "data": {
      "text/plain": [
       "(array([  0.38993755,  -0.83289212,   1.78124275,  -0.49106295,\n",
       "          1.41811206,  -1.73250375,   2.91794196,  -0.53483304,\n",
       "          2.32027011,   2.52528264,   2.92896198, -10.94355711,\n",
       "          1.91391435]), -22.53280632411067)"
      ]
     },
     "execution_count": 65,
     "metadata": {},
     "output_type": "execute_result"
    }
   ],
   "source": [
    "# Check to make sure it works\n",
    "# Initial gradient should be large\n",
    "\n",
    "gradient(weights_init, bias_init)"
   ]
  },
  {
   "cell_type": "markdown",
   "metadata": {},
   "source": [
    "### 2.3: Run Gradient Descent\n",
    "1. You want to update the weights by subtracting the partial derivative * some learning rate alpha.\n",
    "2. Do the same for the bias\n",
    "3. Append the cost of the new weights and bias to an array of costs using np.append()\n",
    "4. Repeat for some number (we call this the number of epochs, or iterations of steps we're completing during gradient descent)\n",
    "5. As always, the function header is defined for you. Complete the rest!"
   ]
  },
  {
   "cell_type": "code",
   "execution_count": 66,
   "metadata": {},
   "outputs": [],
   "source": [
    "# Gradient descent algorithm:\n",
    "# Repeat for desired iterations: Calculate gradient, move down one step\n",
    "# Cost should decrease over time\n",
    "\n",
    "LEARNING_RATE = 0.01\n",
    "\n",
    "def gradient_descent(weights, bias, num_epochs):\n",
    "    costs = []\n",
    "    weights = weights\n",
    "    bias = bias\n",
    "    \n",
    "    for i in range(num_epochs):\n",
    "        weights_gradient, bias_gradient = gradient(weights, bias)\n",
    "    \n",
    "        # write your code here:\n",
    "        weights= weights -LEARNING_RATE*weights_gradient\n",
    "        bias=bias-LEARNING_RATE*bias_gradient\n",
    "        costs.append(cost(weights,bias))\n",
    "        \n",
    "    return costs, weights, bias"
   ]
  },
  {
   "cell_type": "code",
   "execution_count": 67,
   "metadata": {},
   "outputs": [],
   "source": [
    "costs, trained_weights, trained_bias = gradient_descent(weights_init, bias_init, 1000)"
   ]
  },
  {
   "cell_type": "code",
   "execution_count": 68,
   "metadata": {},
   "outputs": [
    {
     "name": "stdout",
     "output_type": "stream",
     "text": [
      "[-0.89653937  0.38600169 -1.84375811  2.22059022 -1.37887348  7.93618725\n",
      " -0.22254426 -1.35188569  1.26568127 -1.22300804 -4.09662041  0.51575817\n",
      " -6.82893189]\n",
      "22.53183355475399\n"
     ]
    }
   ],
   "source": [
    "print(trained_weights)\n",
    "print(trained_bias)"
   ]
  },
  {
   "cell_type": "markdown",
   "metadata": {},
   "source": [
    "## Part 4: Evaluating the Model"
   ]
  },
  {
   "cell_type": "code",
   "execution_count": 69,
   "metadata": {},
   "outputs": [],
   "source": [
    "import matplotlib.pyplot as plt"
   ]
  },
  {
   "cell_type": "code",
   "execution_count": 73,
   "metadata": {},
   "outputs": [
    {
     "data": {
      "image/png": "[encoded data removed]",
      "text/plain": [
       "<Figure size 432x288 with 1 Axes>"
      ]
     },
     "metadata": {},
     "output_type": "display_data"
    }
   ],
   "source": [
    "plt.plot(costs)\n",
    "plt.xlabel(\"Iteration number (Epoch)\")\n",
    "plt.ylabel(\"Cost\")\n",
    "plt.show()"
   ]
  },
  {
   "cell_type": "code",
   "execution_count": 74,
   "metadata": {},
   "outputs": [],
   "source": [
    "# Final predicted prices\n",
    "new_hypotheses = hypothesis(trained_weights, trained_bias)"
   ]
  },
  {
   "cell_type": "code",
   "execution_count": 75,
   "metadata": {},
   "outputs": [
    {
     "data": {
      "image/png": "[encoded data removed]",
      "text/plain": [
       "<Figure size 432x288 with 1 Axes>"
      ]
     },
     "metadata": {},
     "output_type": "display_data"
    }
   ],
   "source": [
    "# Make sure predictions, actual values are correlated\n",
    "\n",
    "plt.scatter(target, new_hypotheses)\n",
    "plt.xlabel(\"Actual prices\")\n",
    "plt.ylabel(\"Predicted prices\")\n",
    "plt.show()"
   ]
  },
  {
   "cell_type": "markdown",
   "metadata": {},
   "source": [
    "### Congrats! You just did machine learning\n",
    "\n",
    "---"
   ]
  },
  {
   "cell_type": "markdown",
   "metadata": {},
   "source": [
    "## Part 5: Using sklearn's built-in linear regression functionality:"
   ]
  },
  {
   "cell_type": "code",
   "execution_count": 77,
   "metadata": {},
   "outputs": [],
   "source": [
    "from sklearn import linear_model\n",
    "regr = linear_model.LinearRegression()"
   ]
  },
  {
   "cell_type": "code",
   "execution_count": 78,
   "metadata": {},
   "outputs": [
    {
     "data": {
      "text/plain": [
       "LinearRegression(copy_X=True, fit_intercept=True, n_jobs=1, normalize=False)"
      ]
     },
     "execution_count": 78,
     "metadata": {},
     "output_type": "execute_result"
    }
   ],
   "source": [
    "## call the .fit() function on regr using data and target. Yes it's that easy:\n",
    "##################################\n",
    "regr.fit(data,target)"
   ]
  },
  {
   "cell_type": "code",
   "execution_count": 79,
   "metadata": {},
   "outputs": [
    {
     "data": {
      "image/png": "[encoded data removed]",
      "text/plain": [
       "<Figure size 432x288 with 1 Axes>"
      ]
     },
     "metadata": {},
     "output_type": "display_data"
    }
   ],
   "source": [
    "plt.scatter(target, regr.predict(data))\n",
    "plt.xlabel(\"Actual prices (Test)\")\n",
    "plt.ylabel(\"Predicted prices (Test)\")\n",
    "plt.show()"
   ]
  },
  {
   "cell_type": "markdown",
   "metadata": {},
   "source": [
    "## Train Test Split:\n",
    "What we often do in machine learning is split our data into a training set and a testing set. This is so that once we train our model on our training set, we aren't making predictions on the same input, as that would give us \"too-good\" answers, so instead we put aside some data into a testing set and make predictions on that once we've trained our model\n"
   ]
  },
  {
   "cell_type": "code",
   "execution_count": 15,
   "metadata": {},
   "outputs": [],
   "source": [
    "from sklearn.model_selection import train_test_split\n",
    "\n",
    "## Using sklearn's train_test_split() function, create 4 variables X_train, X_test, Y_train, Y_test. \n",
    "## For function parameters, the test size will be 0.25, and the random_state will be 5. \n",
    "## Print each of these variables:\n",
    "X_train=\n",
    "X_test=\n",
    "Y_train=\n",
    "Y_test=\n"
   ]
  },
  {
   "cell_type": "code",
   "execution_count": 16,
   "metadata": {},
   "outputs": [],
   "source": [
    "## use .fit() to train the regression model below\n"
   ]
  },
  {
   "cell_type": "code",
   "execution_count": 82,
   "metadata": {},
   "outputs": [
    {
     "data": {
      "image/png": "[encoded data removed]",
      "text/plain": [
       "<matplotlib.figure.Figure at 0x223cdd2b160>"
      ]
     },
     "metadata": {},
     "output_type": "display_data"
    }
   ],
   "source": [
    "plt.scatter(Y_test, regr.predict(X_test))\n",
    "plt.xlabel(\"Actual prices (Test)\")\n",
    "plt.ylabel(\"Predicted prices (Test)\")\n",
    "plt.show()"
   ]
  },
  {
   "cell_type": "code",
   "execution_count": null,
   "metadata": {
    "collapsed": true
   },
   "outputs": [],
   "source": []
  }
 ],
 "metadata": {
  "kernelspec": {
   "display_name": "Python [conda env:Anaconda3]",
   "language": "python",
   "name": "conda-env-Anaconda3-py"
  },
  "language_info": {
   "codemirror_mode": {
    "name": "ipython",
    "version": 3
   },
   "file_extension": ".py",
   "mimetype": "text/x-python",
   "name": "python",
   "nbconvert_exporter": "python",
   "pygments_lexer": "ipython3",
   "version": "3.6.5"
  }
 },
 "nbformat": 4,
 "nbformat_minor": 2
}
